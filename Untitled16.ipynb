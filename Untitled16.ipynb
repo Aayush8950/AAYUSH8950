{
 "cells": [
  {
   "cell_type": "markdown",
   "id": "ce54220d",
   "metadata": {},
   "source": [
    "# 1)What is cloud computing, and how does it work?"
   ]
  },
  {
   "cell_type": "code",
   "execution_count": null,
   "id": "4f6e471b",
   "metadata": {},
   "outputs": [],
   "source": [
    "#Cloud computing___\n",
    "\"\"\"Cloud computing is a  services happening on  the Internet\n",
    "that is providing data storage, servers, databases, networking, and software.\"\"\"\n",
    "#work_____\n",
    "\"\"\"Cloudbased storage makes helping us to aceeess files to a remote database and use them on demand.\"\"\""
   ]
  },
  {
   "cell_type": "markdown",
   "id": "4e465dee",
   "metadata": {},
   "source": [
    "# 2)List all of the GCP deployment services available."
   ]
  },
  {
   "cell_type": "code",
   "execution_count": null,
   "id": "fe41268c",
   "metadata": {},
   "outputs": [],
   "source": [
    "\"\"\"Google Cloud Platform Services \n",
    "Compute. App Engine: App Engine enables you to build and host applications on the same\n",
    "systems that power Google applications. ...\n",
    "Storage. ...\n",
    "Databases. ...\n",
    "Networking. ...\n",
    "Operations. ...\n",
    "Developer Tools. ...\n",
    "Data Analytics. ...\n",
    "AI and Machine Learning_______etc.\"\"\""
   ]
  },
  {
   "cell_type": "markdown",
   "id": "a82b2ef5",
   "metadata": {},
   "source": [
    "# 3) What is the GCP pub-sub with examples?\n"
   ]
  },
  {
   "cell_type": "code",
   "execution_count": null,
   "id": "7678855a",
   "metadata": {},
   "outputs": [],
   "source": [
    "\"\"\"Pub-Sub is a real-time messaging service by google cloud\n",
    "for applications to publish and subscribe to the events.\n",
    "One can publish the message manually or watch the changes in the \n",
    "Gmail using Gmail API and notify the user application on a realtime basis. ...\"\"\""
   ]
  },
  {
   "cell_type": "markdown",
   "id": "ac92e939",
   "metadata": {},
   "source": [
    "# 4)Make a script to manage files stored on Google Drive?.\n"
   ]
  },
  {
   "cell_type": "code",
   "execution_count": 2,
   "id": "df86ca06",
   "metadata": {},
   "outputs": [
    {
     "data": {
      "text/plain": [
       "'Create/open a Google Doc or Sheet. From Tools menu, select Script editor.\\nRemove existing code and add your code. Go to File > Save > add script name > Click OK.'"
      ]
     },
     "execution_count": 2,
     "metadata": {},
     "output_type": "execute_result"
    }
   ],
   "source": [
    "\"\"\"Create/open a Google Doc or Sheet. From Tools menu, select Script editor.\n",
    "Remove existing code and add your code. Go to File > Save > add script name > Click OK.\"\"\""
   ]
  },
  {
   "cell_type": "markdown",
   "id": "7e60b514",
   "metadata": {},
   "source": [
    "# 5) Explain how Google's cloud billing system works?"
   ]
  },
  {
   "cell_type": "code",
   "execution_count": 3,
   "id": "990f35ad",
   "metadata": {},
   "outputs": [
    {
     "data": {
      "text/plain": [
       "\"1)To use Google Cloud services, you must have a valid Cloud Billing account, and must link it to your Google Cloud projects. \\nYour project's Google Cloud usage is charged to the linked Cloud Billing account.\\n2)best feature you can amange this by the cost calculator which goggle provides in dashboard\\n3)also you pay for what services you occupy on their system and they charge on hourly basis\\n4)initially you get some free credits also\""
      ]
     },
     "execution_count": 3,
     "metadata": {},
     "output_type": "execute_result"
    }
   ],
   "source": [
    "\"\"\"1)To use Google Cloud services, you must have a valid Cloud Billing account, and must link it to your Google Cloud projects. \n",
    "Your project's Google Cloud usage is charged to the linked Cloud Billing account.\n",
    "2)best feature you can amange this by the cost calculator which goggle provides in dashboard\n",
    "3)also you pay for what services you occupy on their system and they charge on hourly basis\n",
    "4)initially you get some free credits also\"\"\""
   ]
  },
  {
   "cell_type": "markdown",
   "id": "d43dc7fe",
   "metadata": {},
   "source": [
    "# 6)What are the different parts of the Google Cloud Platform?"
   ]
  },
  {
   "cell_type": "code",
   "execution_count": 4,
   "id": "f20a1d57",
   "metadata": {},
   "outputs": [
    {
     "data": {
      "text/plain": [
       "'Storage and Database. \\nNetworking. \\nBig Data\\nDeveloper Tools.\\nIdentity and Security\\nInternet of Things(IoT)\\nCloud AI.\\n'"
      ]
     },
     "execution_count": 4,
     "metadata": {},
     "output_type": "execute_result"
    }
   ],
   "source": [
    "\"\"\"Storage and Database. \n",
    "Networking. \n",
    "Big Data\n",
    "Developer Tools.\n",
    "Identity and Security\n",
    "Internet of Things(IoT)\n",
    "Cloud AI.\n",
    "\"\"\""
   ]
  },
  {
   "cell_type": "markdown",
   "id": "dd26efbb",
   "metadata": {},
   "source": [
    "# 7) What is Google Cloud App Engine, and how does it work? What is Google Cloud App Engine's purpose?"
   ]
  },
  {
   "cell_type": "markdown",
   "id": "69cdc759",
   "metadata": {},
   "source": [
    "# Google Cloud App Engine"
   ]
  },
  {
   "cell_type": "code",
   "execution_count": null,
   "id": "64718e22",
   "metadata": {},
   "outputs": [],
   "source": [
    "\"\"\"GCP is a App Engine is an fully managed program on  serverless basis platform for developing and hosting web applications at scale.\n",
    "You can choose from several popular languages, libraries, and frameworks to develop your apps,\n",
    "and then let App Engine take care of provisioning servers and scaling your app instances based on demand.\"\"\""
   ]
  },
  {
   "cell_type": "markdown",
   "id": "b2cc0f4e",
   "metadata": {},
   "source": [
    "# Google Cloud App Engine's purpose"
   ]
  },
  {
   "cell_type": "code",
   "execution_count": null,
   "id": "ce4383f3",
   "metadata": {},
   "outputs": [],
   "source": [
    "\"\"\"Google App Engine (often referred to as GAE or simply App Engine) is a cloud computing platform as a service______\n",
    "for developing and hosting web applications in Google-managed data centers. __________________\n",
    "Applications are sandboxed and run across multiple servers.______________________\"\"\""
   ]
  },
  {
   "cell_type": "markdown",
   "id": "548ba883",
   "metadata": {},
   "source": [
    "# 8)Use an example to demonstrate how to use Google Cloud App Engine.?"
   ]
  },
  {
   "cell_type": "code",
   "execution_count": null,
   "id": "8cedada7",
   "metadata": {},
   "outputs": [],
   "source": [
    "\"\"\"1) first define these two thing Setup and requirements.\n",
    "explanation1) please set the requirments that you are thinking you will need \n",
    "2)Write the web app.\n",
    "exp2) in this step basically you can adopt for two thing use \n",
    "3)Define the dependencies.\n",
    "4)Configure the deployment.\n",
    "exp4)before deploying your code configure this carefully all the code ad other things\n",
    "5)Deploy the web app. \n",
    "exp 5) once you are all set deploy your web code on gcpp\n",
    "6)Test the web app.\n",
    "exp6)now once all done test the we\n",
    "Update the web app.\"\"\"\n",
    "\n",
    "\n",
    "#now use it easily and can scale the web part easily in the future \n",
    "# this is the plus point"
   ]
  }
 ],
 "metadata": {
  "kernelspec": {
   "display_name": "Python 3 (ipykernel)",
   "language": "python",
   "name": "python3"
  },
  "language_info": {
   "codemirror_mode": {
    "name": "ipython",
    "version": 3
   },
   "file_extension": ".py",
   "mimetype": "text/x-python",
   "name": "python",
   "nbconvert_exporter": "python",
   "pygments_lexer": "ipython3",
   "version": "3.9.7"
  }
 },
 "nbformat": 4,
 "nbformat_minor": 5
}
