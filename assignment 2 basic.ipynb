{
 "cells": [
  {
   "cell_type": "markdown",
   "id": "0df29ebc",
   "metadata": {},
   "source": [
    "# 1.What are the two values of the Boolean data type? How do you write them?"
   ]
  },
  {
   "cell_type": "code",
   "execution_count": 1,
   "id": "c5e6956b",
   "metadata": {},
   "outputs": [],
   "source": [
    "a= True\n",
    "b= False"
   ]
  },
  {
   "cell_type": "markdown",
   "id": "3e6f2da1",
   "metadata": {},
   "source": [
    "# 2. What are the three different types of Boolean operators?"
   ]
  },
  {
   "cell_type": "markdown",
   "id": "94764711",
   "metadata": {},
   "source": [
    "#                                and               or                  not"
   ]
  },
  {
   "cell_type": "markdown",
   "id": "ed488c19",
   "metadata": {},
   "source": [
    "# 3. Make a list of each Boolean operator&#39;s truth tables (i.e. every possible combination of Boolean\n",
    "values for the operator and what it evaluate )."
   ]
  },
  {
   "cell_type": "code",
   "execution_count": 7,
   "id": "4c577dda",
   "metadata": {},
   "outputs": [],
   "source": [
    "# and operator \n",
    "#use case = if both are true then true otherwise if anyone is false then false\n",
    "\n",
    "#here                        true= 1                                      0 = false \n",
    "\n",
    "#                          a         b       result\n",
    "#                          1         1        1\n",
    " #                         1         0        0\n",
    "  #                        0         1        0\n",
    "  #                       0          0       0"
   ]
  },
  {
   "cell_type": "code",
   "execution_count": 8,
   "id": "1dd8b754",
   "metadata": {},
   "outputs": [],
   "source": [
    "# or operator \n",
    "#use case = if both are false then false otherwise if anyone is truee then true\n",
    "\n",
    "#here                        true= 1                                      0 = false \n",
    "\n",
    "#                          a         b       result\n",
    "#                          1         1        1\n",
    " #                         1         0        1\n",
    "  #                        0         1        1\n",
    "  #                       0          0       0"
   ]
  },
  {
   "cell_type": "code",
   "execution_count": 10,
   "id": "6dbab861",
   "metadata": {},
   "outputs": [],
   "source": [
    "# not operator \n",
    "# use case = it just opposes the result output if we are getting true it makes it false\n",
    " #here                        true= 1                                      0 = false\n",
    "    \n",
    "    #                          a           result\n",
    "    #                           1            0\n",
    "     #                          0            1"
   ]
  },
  {
   "cell_type": "markdown",
   "id": "9b73e15c",
   "metadata": {},
   "source": [
    "# 4. What are the values of the following expressions?\n",
    "(5 &gt; 4) and (3 == 5)\n",
    "not (5 &gt; 4)\n",
    "(5 &gt; 4) or (3 == 5)\n",
    "not ((5 &gt; 4) or (3 == 5))\n",
    "(True and True) and (True == False)\n",
    "(not False) or (not True)"
   ]
  },
  {
   "cell_type": "code",
   "execution_count": 11,
   "id": "202951e4",
   "metadata": {},
   "outputs": [
    {
     "data": {
      "text/plain": [
       "False"
      ]
     },
     "execution_count": 11,
     "metadata": {},
     "output_type": "execute_result"
    }
   ],
   "source": [
    "(5 > 4) and (3 == 5)"
   ]
  },
  {
   "cell_type": "code",
   "execution_count": 12,
   "id": "0c9a72a5",
   "metadata": {},
   "outputs": [
    {
     "data": {
      "text/plain": [
       "False"
      ]
     },
     "execution_count": 12,
     "metadata": {},
     "output_type": "execute_result"
    }
   ],
   "source": [
    "not (5 > 4)"
   ]
  },
  {
   "cell_type": "code",
   "execution_count": 13,
   "id": "2dada3f3",
   "metadata": {},
   "outputs": [
    {
     "data": {
      "text/plain": [
       "True"
      ]
     },
     "execution_count": 13,
     "metadata": {},
     "output_type": "execute_result"
    }
   ],
   "source": [
    " (5 > 4) or (3 == 5) "
   ]
  },
  {
   "cell_type": "code",
   "execution_count": 16,
   "id": "1215b6ed",
   "metadata": {},
   "outputs": [
    {
     "data": {
      "text/plain": [
       "False"
      ]
     },
     "execution_count": 16,
     "metadata": {},
     "output_type": "execute_result"
    }
   ],
   "source": [
    "(True and True) and (True == False)\n",
    "# (1 and 1) = 1 (true)\n",
    "# (1==0)    = 0(false)\n",
    "# 1 and 0   = 0(false)(as mentioned in answer)"
   ]
  },
  {
   "cell_type": "code",
   "execution_count": 17,
   "id": "31757548",
   "metadata": {},
   "outputs": [
    {
     "data": {
      "text/plain": [
       "True"
      ]
     },
     "execution_count": 17,
     "metadata": {},
     "output_type": "execute_result"
    }
   ],
   "source": [
    "(not False) or (not True)\n",
    "# not 0 = 1\n",
    "# not 1 = 0\n",
    "# 1 or 0= 1(true )(as mentioned in output)"
   ]
  },
  {
   "cell_type": "markdown",
   "id": "03409580",
   "metadata": {},
   "source": [
    "# 5. What are the six comparison operators?"
   ]
  },
  {
   "cell_type": "code",
   "execution_count": 44,
   "id": "ff2cce54",
   "metadata": {},
   "outputs": [],
   "source": [
    "aayush= 7\n",
    "subhanshi= 4\n"
   ]
  },
  {
   "cell_type": "code",
   "execution_count": 45,
   "id": "8e463741",
   "metadata": {},
   "outputs": [
    {
     "data": {
      "text/plain": [
       "False"
      ]
     },
     "execution_count": 45,
     "metadata": {},
     "output_type": "execute_result"
    }
   ],
   "source": [
    "aayush==subhanshi"
   ]
  },
  {
   "cell_type": "code",
   "execution_count": 46,
   "id": "d682900e",
   "metadata": {},
   "outputs": [
    {
     "data": {
      "text/plain": [
       "True"
      ]
     },
     "execution_count": 46,
     "metadata": {},
     "output_type": "execute_result"
    }
   ],
   "source": [
    "aayush >subhanshi"
   ]
  },
  {
   "cell_type": "code",
   "execution_count": 47,
   "id": "024b8f73",
   "metadata": {},
   "outputs": [
    {
     "data": {
      "text/plain": [
       "False"
      ]
     },
     "execution_count": 47,
     "metadata": {},
     "output_type": "execute_result"
    }
   ],
   "source": [
    "aayush < subhanshi"
   ]
  },
  {
   "cell_type": "code",
   "execution_count": 48,
   "id": "c65eb792",
   "metadata": {},
   "outputs": [
    {
     "data": {
      "text/plain": [
       "True"
      ]
     },
     "execution_count": 48,
     "metadata": {},
     "output_type": "execute_result"
    }
   ],
   "source": [
    "aayush >= subhanshi"
   ]
  },
  {
   "cell_type": "code",
   "execution_count": 49,
   "id": "f368831d",
   "metadata": {},
   "outputs": [
    {
     "data": {
      "text/plain": [
       "False"
      ]
     },
     "execution_count": 49,
     "metadata": {},
     "output_type": "execute_result"
    }
   ],
   "source": [
    "aayush<=subhanshi"
   ]
  },
  {
   "cell_type": "code",
   "execution_count": 51,
   "id": "e1ed237a",
   "metadata": {},
   "outputs": [
    {
     "data": {
      "text/plain": [
       "True"
      ]
     },
     "execution_count": 51,
     "metadata": {},
     "output_type": "execute_result"
    }
   ],
   "source": [
    "aayush != subhanshi"
   ]
  },
  {
   "cell_type": "markdown",
   "id": "22e5ebab",
   "metadata": {},
   "source": [
    "# 6. How do you tell the difference between the equal to and assignment operators?Describe a\n",
    "condition and when you would use one."
   ]
  },
  {
   "cell_type": "code",
   "execution_count": 24,
   "id": "08119399",
   "metadata": {},
   "outputs": [
    {
     "data": {
      "text/plain": [
       "False"
      ]
     },
     "execution_count": 24,
     "metadata": {},
     "output_type": "execute_result"
    }
   ],
   "source": [
    "# equal to use case\n",
    "# this operator is used to assign value to some particular variable for e.g.\n",
    "b=9 \n",
    "c= 7\n",
    "a = b+c \n"
   ]
  },
  {
   "cell_type": "code",
   "execution_count": 3,
   "id": "b7979712",
   "metadata": {},
   "outputs": [
    {
     "data": {
      "text/plain": [
       "16"
      ]
     },
     "execution_count": 3,
     "metadata": {},
     "output_type": "execute_result"
    }
   ],
   "source": [
    "a\n",
    "#here a represents the use case of adding b+c "
   ]
  },
  {
   "cell_type": "code",
   "execution_count": 25,
   "id": "1635bea5",
   "metadata": {},
   "outputs": [],
   "source": [
    "# use case of assignment operator \n",
    "# it simple check for the equality\n",
    "b=5\n",
    "a=9\n",
    "c=4\n",
    "d=4"
   ]
  },
  {
   "cell_type": "code",
   "execution_count": 26,
   "id": "d762fbe7",
   "metadata": {},
   "outputs": [
    {
     "data": {
      "text/plain": [
       "False"
      ]
     },
     "execution_count": 26,
     "metadata": {},
     "output_type": "execute_result"
    }
   ],
   "source": [
    "a==b"
   ]
  },
  {
   "cell_type": "code",
   "execution_count": 27,
   "id": "4a1eb508",
   "metadata": {},
   "outputs": [
    {
     "data": {
      "text/plain": [
       "True"
      ]
     },
     "execution_count": 27,
     "metadata": {},
     "output_type": "execute_result"
    }
   ],
   "source": [
    "c==d"
   ]
  },
  {
   "cell_type": "markdown",
   "id": "d034e5cc",
   "metadata": {},
   "source": [
    "\n",
    "# 7. Identify the three blocks in this code:"
   ]
  },
  {
   "cell_type": "code",
   "execution_count": 8,
   "id": "6d531f23",
   "metadata": {},
   "outputs": [
    {
     "name": "stdout",
     "output_type": "stream",
     "text": [
      "ham\n",
      "spam\n",
      "spam\n"
     ]
    }
   ],
   "source": [
    "spam = 0\n",
    "if spam == 10:\n",
    "       print(\"eggs\")\n",
    "if spam >5:                          #i am does not able to underatnd what is this question asking \n",
    "        print(\"bacon\")\n",
    "else:\n",
    "    print(\"ham\")\n",
    "    print(\"spam\")\n",
    "    print(\"spam\")\n",
    "     \n",
    "   \n",
    "    "
   ]
  },
  {
   "cell_type": "markdown",
   "id": "aa6e5f34",
   "metadata": {},
   "source": [
    "# i have rewrite the code agin because in question pdf many indentation problems has oocured "
   ]
  },
  {
   "cell_type": "markdown",
   "id": "a13a1a6c",
   "metadata": {},
   "source": [
    "# 8. Write code that prints Hello if 1 is stored in spam, prints Howdy if 2 is stored in spam, and prints\n",
    "Greetings! if anything else is stored in spam."
   ]
  },
  {
   "cell_type": "code",
   "execution_count": 38,
   "id": "d664287a",
   "metadata": {},
   "outputs": [
    {
     "name": "stdout",
     "output_type": "stream",
     "text": [
      "1\n",
      "hello\n"
     ]
    }
   ],
   "source": [
    "spam = int(input())\n",
    "if spam==1:\n",
    "    print(\"hello\")\n",
    "elif spam==2:\n",
    "    print(\"howdy\")\n",
    "else:\n",
    "    print(\"grettings\")"
   ]
  },
  {
   "cell_type": "markdown",
   "id": "9ab8ef1f",
   "metadata": {},
   "source": [
    "# 9.If your programme is stuck in an endless loop, what keys you’ll press?"
   ]
  },
  {
   "cell_type": "code",
   "execution_count": 11,
   "id": "181b7e16",
   "metadata": {},
   "outputs": [
    {
     "ename": "NameError",
     "evalue": "name 'ctrl' is not defined",
     "output_type": "error",
     "traceback": [
      "\u001b[1;31m---------------------------------------------------------------------------\u001b[0m",
      "\u001b[1;31mNameError\u001b[0m                                 Traceback (most recent call last)",
      "\u001b[1;32m~\\AppData\\Local\\Temp/ipykernel_11296/169487482.py\u001b[0m in \u001b[0;36m<module>\u001b[1;34m\u001b[0m\n\u001b[1;32m----> 1\u001b[1;33m \u001b[0mctrl\u001b[0m \u001b[1;33m+\u001b[0m\u001b[0mc\u001b[0m\u001b[1;33m\u001b[0m\u001b[1;33m\u001b[0m\u001b[0m\n\u001b[0m",
      "\u001b[1;31mNameError\u001b[0m: name 'ctrl' is not defined"
     ]
    }
   ],
   "source": [
    "#ctrl +c"
   ]
  },
  {
   "cell_type": "markdown",
   "id": "fc91b565",
   "metadata": {},
   "source": [
    "# 10. How can you tell the difference between break and continue?"
   ]
  },
  {
   "cell_type": "code",
   "execution_count": null,
   "id": "6d49c9f8",
   "metadata": {},
   "outputs": [],
   "source": []
  },
  {
   "cell_type": "markdown",
   "id": "231b7b62",
   "metadata": {},
   "source": [
    "# continue use ---  it simply avoid that case which it is verifying"
   ]
  },
  {
   "cell_type": "code",
   "execution_count": 17,
   "id": "2670f82c",
   "metadata": {},
   "outputs": [
    {
     "name": "stdout",
     "output_type": "stream",
     "text": [
      "a\n",
      "a\n",
      "y\n",
      "u\n",
      "h\n",
      " \n",
      "i\n",
      " \n",
      "a\n",
      " \n",
      "b\n",
      "o\n",
      "y\n"
     ]
    }
   ],
   "source": [
    "a=\"aayush is a boy\"\n",
    "for i in a:\n",
    "    if i==\"s\":\n",
    "        continue\n",
    "        print(\"hlo\")\n",
    "    else:\n",
    "        print(i)\n",
    "              "
   ]
  },
  {
   "cell_type": "code",
   "execution_count": null,
   "id": "f76b6266",
   "metadata": {},
   "outputs": [],
   "source": []
  },
  {
   "cell_type": "markdown",
   "id": "1834233e",
   "metadata": {},
   "source": [
    "# Break use-- it breaks the code at that point where it is verified"
   ]
  },
  {
   "cell_type": "code",
   "execution_count": 18,
   "id": "b80ccfce",
   "metadata": {},
   "outputs": [
    {
     "name": "stdout",
     "output_type": "stream",
     "text": [
      "a\n",
      "a\n",
      "y\n",
      "u\n"
     ]
    }
   ],
   "source": [
    "a=\"aayush is a boy\"\n",
    "for i in a:\n",
    "    if i==\"s\":\n",
    "        break\n",
    "        print(\"hlo\")\n",
    "    else:\n",
    "        print(i)\n",
    "              "
   ]
  },
  {
   "cell_type": "markdown",
   "id": "7a4ee188",
   "metadata": {},
   "source": [
    "# 11. In a for loop, what is the difference between range(10), range(0, 10), and range(0, 10, 1)?"
   ]
  },
  {
   "cell_type": "code",
   "execution_count": null,
   "id": "45e04c7b",
   "metadata": {},
   "outputs": [],
   "source": []
  },
  {
   "cell_type": "markdown",
   "id": "a1e5978d",
   "metadata": {},
   "source": [
    "# All have same meaning"
   ]
  },
  {
   "cell_type": "code",
   "execution_count": 32,
   "id": "149f4a2f",
   "metadata": {},
   "outputs": [
    {
     "name": "stdout",
     "output_type": "stream",
     "text": [
      "0\n",
      "1\n",
      "2\n",
      "3\n",
      "4\n",
      "5\n",
      "6\n",
      "7\n",
      "8\n",
      "9\n"
     ]
    }
   ],
   "source": [
    "for i in  range(10):\n",
    "    print(i)"
   ]
  },
  {
   "cell_type": "code",
   "execution_count": 33,
   "id": "bc84cc8a",
   "metadata": {},
   "outputs": [
    {
     "name": "stdout",
     "output_type": "stream",
     "text": [
      "0\n",
      "1\n",
      "2\n",
      "3\n",
      "4\n",
      "5\n",
      "6\n",
      "7\n",
      "8\n",
      "9\n"
     ]
    }
   ],
   "source": [
    "for i in  range(0,10):\n",
    "    print(i)"
   ]
  },
  {
   "cell_type": "code",
   "execution_count": 34,
   "id": "0eeb6f85",
   "metadata": {},
   "outputs": [
    {
     "name": "stdout",
     "output_type": "stream",
     "text": [
      "0\n",
      "1\n",
      "2\n",
      "3\n",
      "4\n",
      "5\n",
      "6\n",
      "7\n",
      "8\n",
      "9\n"
     ]
    }
   ],
   "source": [
    "for i in  range(0,10,1):\n",
    "    print(i)"
   ]
  },
  {
   "cell_type": "code",
   "execution_count": null,
   "id": "7b81af67",
   "metadata": {},
   "outputs": [],
   "source": []
  },
  {
   "cell_type": "code",
   "execution_count": null,
   "id": "25f93bfc",
   "metadata": {},
   "outputs": [],
   "source": []
  },
  {
   "cell_type": "markdown",
   "id": "767b33a7",
   "metadata": {},
   "source": [
    "# 12. Write a short program that prints the numbers 1 to 10 using a for loop. Then write an equivalent\n",
    "program that prints the numbers 1 to 10 using a while loop."
   ]
  },
  {
   "cell_type": "code",
   "execution_count": 27,
   "id": "c5220e4d",
   "metadata": {},
   "outputs": [
    {
     "name": "stdout",
     "output_type": "stream",
     "text": [
      "1\n",
      "2\n",
      "3\n",
      "4\n",
      "5\n",
      "6\n",
      "7\n",
      "8\n",
      "9\n",
      "10\n"
     ]
    }
   ],
   "source": [
    "\n",
    "for i in range(1,11):\n",
    "    print(i)"
   ]
  },
  {
   "cell_type": "code",
   "execution_count": 30,
   "id": "a5dc685f",
   "metadata": {},
   "outputs": [
    {
     "name": "stdout",
     "output_type": "stream",
     "text": [
      "1\n",
      "2\n",
      "3\n",
      "4\n",
      "5\n",
      "6\n",
      "7\n",
      "8\n",
      "9\n",
      "10\n"
     ]
    }
   ],
   "source": [
    "i=1\n",
    "while i<11:\n",
    "    print(i)\n",
    "    i=i+1"
   ]
  },
  {
   "cell_type": "code",
   "execution_count": null,
   "id": "af55cdd9",
   "metadata": {},
   "outputs": [],
   "source": []
  }
 ],
 "metadata": {
  "kernelspec": {
   "display_name": "Python 3 (ipykernel)",
   "language": "python",
   "name": "python3"
  },
  "language_info": {
   "codemirror_mode": {
    "name": "ipython",
    "version": 3
   },
   "file_extension": ".py",
   "mimetype": "text/x-python",
   "name": "python",
   "nbconvert_exporter": "python",
   "pygments_lexer": "ipython3",
   "version": "3.9.7"
  }
 },
 "nbformat": 4,
 "nbformat_minor": 5
}
