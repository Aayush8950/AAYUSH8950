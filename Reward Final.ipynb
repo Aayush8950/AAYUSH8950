{
 "cells": [
  {
   "cell_type": "markdown",
   "id": "e4f9306e",
   "metadata": {},
   "source": [
    "\n",
    "# 1 . you have to write a fun which will take string and return a len of \n",
    "it without using a inbuilt fun len"
   ]
  },
  {
   "cell_type": "code",
   "execution_count": 5,
   "id": "0c6a179e",
   "metadata": {},
   "outputs": [],
   "source": [
    "def q1():\n",
    "    \"\"\"this function help us to take input as a str and return output of its len\n",
    "    \"\"\"\n",
    "    a=input()\n",
    "    aq=0\n",
    "    for i in a:\n",
    "        aq=aq+1\n",
    "        \n",
    "    print(\"len of string is :\",aq)"
   ]
  },
  {
   "cell_type": "code",
   "execution_count": 6,
   "id": "2f232591",
   "metadata": {},
   "outputs": [
    {
     "name": "stdout",
     "output_type": "stream",
     "text": [
      "dfghbjnm\n",
      "len of string is : 8\n"
     ]
    }
   ],
   "source": [
    "q1()"
   ]
  },
  {
   "cell_type": "code",
   "execution_count": null,
   "id": "528e5d58",
   "metadata": {},
   "outputs": [],
   "source": []
  },
  {
   "cell_type": "markdown",
   "id": "5b7fc548",
   "metadata": {},
   "source": [
    "# 4 . write a fun which will take another function as an input and return me an output"
   ]
  },
  {
   "cell_type": "code",
   "execution_count": 7,
   "id": "22b97ebe",
   "metadata": {},
   "outputs": [],
   "source": [
    "def a4():\n",
    "    b=input()\n",
    "    return b"
   ]
  },
  {
   "cell_type": "code",
   "execution_count": 10,
   "id": "b9183eba",
   "metadata": {},
   "outputs": [],
   "source": [
    "def a5():\n",
    "    \"this function helps to take input and sepraete out all the variable\"\n",
    "    c=a4()\n",
    "    for i in c:\n",
    "        print(i)"
   ]
  },
  {
   "cell_type": "code",
   "execution_count": 11,
   "id": "6a13db99",
   "metadata": {},
   "outputs": [
    {
     "name": "stdout",
     "output_type": "stream",
     "text": [
      "dfgvhbn\n",
      "d\n",
      "f\n",
      "g\n",
      "v\n",
      "h\n",
      "b\n",
      "n\n"
     ]
    }
   ],
   "source": [
    "a5()"
   ]
  },
  {
   "cell_type": "markdown",
   "id": "8aaef942",
   "metadata": {},
   "source": [
    "# 3 . Write a fun which will take input as a dict and give me out as a list of all the values "
   ]
  },
  {
   "cell_type": "code",
   "execution_count": null,
   "id": "5aa2c2ac",
   "metadata": {},
   "outputs": [],
   "source": [
    "def c1():\n",
    "    \"\"\"a fun which will take input as a dict and give me out as a list of all the values\"\"\"\n",
    "    g={}\n",
    "    n=int(input(\"no. of entries\"))   \n",
    "    for i in range(n):\n",
    "            a11=input(\"enter the key\")\n",
    "            a12=input(\"enter the value\")\n",
    "            g.update({a11:a12})\n",
    "    return g.values()       \n",
    "        "
   ]
  }
 ],
 "metadata": {
  "kernelspec": {
   "display_name": "Python 3 (ipykernel)",
   "language": "python",
   "name": "python3"
  },
  "language_info": {
   "codemirror_mode": {
    "name": "ipython",
    "version": 3
   },
   "file_extension": ".py",
   "mimetype": "text/x-python",
   "name": "python",
   "nbconvert_exporter": "python",
   "pygments_lexer": "ipython3",
   "version": "3.9.7"
  }
 },
 "nbformat": 4,
 "nbformat_minor": 5
}
