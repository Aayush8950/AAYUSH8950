{
 "cells": [
  {
   "cell_type": "markdown",
   "id": "222bacb8",
   "metadata": {},
   "source": [
    "#                                         assignment no.1 basic"
   ]
  },
  {
   "cell_type": "markdown",
   "id": "c1c1cfa6",
   "metadata": {},
   "source": [
    "# 1. In the below elements which of them are values or an expression? eg:- values can be\n",
    "integer or string and expressions will be mathematical operators.\n",
    "*\n",
    "&#39;hello&#39;\n",
    "-87.8\n",
    "-\n",
    "/\n",
    "+\n",
    "6"
   ]
  },
  {
   "cell_type": "code",
   "execution_count": 12,
   "id": "7c014e1e",
   "metadata": {},
   "outputs": [],
   "source": [
    "#1st question\n",
    "#to determine this we use type function intially we declare all the given things in variables\n",
    "\n",
    "a=\"hello\"\n",
    "b= -87.8\n",
    "c=6\n",
    "#all upper three are values(condition for value- all type of integer and string)\n",
    "#proof of this is mentioned below"
   ]
  },
  {
   "cell_type": "code",
   "execution_count": 13,
   "id": "5440a145",
   "metadata": {},
   "outputs": [
    {
     "data": {
      "text/plain": [
       "str"
      ]
     },
     "execution_count": 13,
     "metadata": {},
     "output_type": "execute_result"
    }
   ],
   "source": [
    "type(a)"
   ]
  },
  {
   "cell_type": "code",
   "execution_count": 14,
   "id": "3c53ee9b",
   "metadata": {},
   "outputs": [
    {
     "data": {
      "text/plain": [
       "float"
      ]
     },
     "execution_count": 14,
     "metadata": {},
     "output_type": "execute_result"
    }
   ],
   "source": [
    "type(b)"
   ]
  },
  {
   "cell_type": "code",
   "execution_count": 15,
   "id": "37652c16",
   "metadata": {},
   "outputs": [
    {
     "data": {
      "text/plain": [
       "int"
      ]
     },
     "execution_count": 15,
     "metadata": {},
     "output_type": "execute_result"
    }
   ],
   "source": [
    "type(c)"
   ]
  },
  {
   "cell_type": "code",
   "execution_count": null,
   "id": "9a8f6e60",
   "metadata": {},
   "outputs": [],
   "source": [
    "d= *\n",
    "e= -\n",
    "f=/\n",
    "g= +"
   ]
  },
  {
   "cell_type": "code",
   "execution_count": 23,
   "id": "7f204fd9",
   "metadata": {},
   "outputs": [
    {
     "data": {
      "text/plain": [
       "str"
      ]
     },
     "execution_count": 23,
     "metadata": {},
     "output_type": "execute_result"
    }
   ],
   "source": [
    "type(d)"
   ]
  },
  {
   "cell_type": "code",
   "execution_count": 22,
   "id": "98c6092e",
   "metadata": {},
   "outputs": [
    {
     "data": {
      "text/plain": [
       "int"
      ]
     },
     "execution_count": 22,
     "metadata": {},
     "output_type": "execute_result"
    }
   ],
   "source": [
    "type(g)"
   ]
  },
  {
   "cell_type": "code",
   "execution_count": 24,
   "id": "10f1ebb1",
   "metadata": {},
   "outputs": [],
   "source": [
    "#f and g is also count in value"
   ]
  },
  {
   "cell_type": "code",
   "execution_count": 47,
   "id": "5913141c",
   "metadata": {},
   "outputs": [],
   "source": [
    "#e and f is count in mathematical expression"
   ]
  },
  {
   "cell_type": "markdown",
   "id": "08864387",
   "metadata": {},
   "source": [
    "#                                            {next question start}  2"
   ]
  },
  {
   "cell_type": "markdown",
   "id": "c7185237",
   "metadata": {},
   "source": [
    "# 2nd que - what is the difference b/w string and variable"
   ]
  },
  {
   "cell_type": "code",
   "execution_count": 10,
   "id": "ff9f026b",
   "metadata": {},
   "outputs": [
    {
     "data": {
      "text/plain": [
       "str"
      ]
     },
     "execution_count": 10,
     "metadata": {},
     "output_type": "execute_result"
    }
   ],
   "source": [
    "#string is defined as shown below (anything in the single comma or inverted comma is defined as string)\n",
    "a=\"aayush\"\n",
    "type(a)"
   ]
  },
  {
   "cell_type": "code",
   "execution_count": 36,
   "id": "fc5ec3f0",
   "metadata": {},
   "outputs": [],
   "source": [
    "#example of a varibale\n",
    "q= \"aayush\"\n",
    "#here q is defined as variable\n"
   ]
  },
  {
   "cell_type": "markdown",
   "id": "281d51f8",
   "metadata": {},
   "source": [
    "#                                                {next question start}  3"
   ]
  },
  {
   "cell_type": "markdown",
   "id": "55d9c02e",
   "metadata": {},
   "source": [
    "# 3. Describe three different data types."
   ]
  },
  {
   "cell_type": "code",
   "execution_count": 12,
   "id": "791114ab",
   "metadata": {},
   "outputs": [],
   "source": [
    "a=\"aayush\"              #string data type\n",
    "b=45                    # int data type \n",
    "c=78.20                 # floAT data type\n",
    "d= True               # BOOLEAN data type"
   ]
  },
  {
   "cell_type": "code",
   "execution_count": 13,
   "id": "d7d772bb",
   "metadata": {},
   "outputs": [
    {
     "data": {
      "text/plain": [
       "str"
      ]
     },
     "execution_count": 13,
     "metadata": {},
     "output_type": "execute_result"
    }
   ],
   "source": [
    "type(a)"
   ]
  },
  {
   "cell_type": "code",
   "execution_count": 14,
   "id": "1a3966ba",
   "metadata": {},
   "outputs": [
    {
     "data": {
      "text/plain": [
       "int"
      ]
     },
     "execution_count": 14,
     "metadata": {},
     "output_type": "execute_result"
    }
   ],
   "source": [
    "type(b)"
   ]
  },
  {
   "cell_type": "code",
   "execution_count": 15,
   "id": "bec13a6f",
   "metadata": {},
   "outputs": [
    {
     "data": {
      "text/plain": [
       "float"
      ]
     },
     "execution_count": 15,
     "metadata": {},
     "output_type": "execute_result"
    }
   ],
   "source": [
    "type(c)"
   ]
  },
  {
   "cell_type": "code",
   "execution_count": 16,
   "id": "f4daf6cc",
   "metadata": {},
   "outputs": [
    {
     "data": {
      "text/plain": [
       "bool"
      ]
     },
     "execution_count": 16,
     "metadata": {},
     "output_type": "execute_result"
    }
   ],
   "source": [
    "type(d)"
   ]
  },
  {
   "cell_type": "markdown",
   "id": "e8af6162",
   "metadata": {},
   "source": [
    "#                                         {next question start}  4"
   ]
  },
  {
   "cell_type": "markdown",
   "id": "2ec5835d",
   "metadata": {},
   "source": [
    "# 4. What is an expression made up of? What do all expressions do?"
   ]
  },
  {
   "cell_type": "code",
   "execution_count": 37,
   "id": "c52d9bb2",
   "metadata": {},
   "outputs": [],
   "source": [
    "#example of expression is like this\n",
    "\n",
    "q= (45*2)/10 \n",
    "\n",
    "# here whole the thing written is called as expression because it contains\n",
    "#operators (arithmetic oprators)."
   ]
  },
  {
   "cell_type": "code",
   "execution_count": 18,
   "id": "432637d4",
   "metadata": {},
   "outputs": [
    {
     "data": {
      "text/plain": [
       "9.0"
      ]
     },
     "execution_count": 18,
     "metadata": {},
     "output_type": "execute_result"
    }
   ],
   "source": [
    "q\n"
   ]
  },
  {
   "cell_type": "code",
   "execution_count": 38,
   "id": "bb7ce388",
   "metadata": {},
   "outputs": [],
   "source": [
    "#expression generally do the specific task which is given to them with the help of operators defined in the expression."
   ]
  },
  {
   "cell_type": "markdown",
   "id": "6bf6f533",
   "metadata": {},
   "source": [
    "# 5. This assignment statements, like spam = 10. What is the difference between an\n",
    "expression and a statement?"
   ]
  },
  {
   "cell_type": "code",
   "execution_count": 40,
   "id": "c2bbc1d5",
   "metadata": {},
   "outputs": [],
   "source": [
    "#statement is defined as below\n",
    "statement = 10\n",
    "# it does not contain any operator therefore it is defined   as statement"
   ]
  },
  {
   "cell_type": "code",
   "execution_count": 41,
   "id": "3d67b2a8",
   "metadata": {},
   "outputs": [
    {
     "data": {
      "text/plain": [
       "10"
      ]
     },
     "execution_count": 41,
     "metadata": {},
     "output_type": "execute_result"
    }
   ],
   "source": [
    "statement"
   ]
  },
  {
   "cell_type": "code",
   "execution_count": 20,
   "id": "fe9e82fb",
   "metadata": {},
   "outputs": [],
   "source": [
    "#expression is defined as below \n",
    "expression = (70 + 50) *10\n",
    "# it is defined as expression because it contains operators"
   ]
  },
  {
   "cell_type": "code",
   "execution_count": 21,
   "id": "3b5a9c1f",
   "metadata": {},
   "outputs": [
    {
     "data": {
      "text/plain": [
       "1200"
      ]
     },
     "execution_count": 21,
     "metadata": {},
     "output_type": "execute_result"
    }
   ],
   "source": [
    "expression"
   ]
  },
  {
   "cell_type": "markdown",
   "id": "66809457",
   "metadata": {},
   "source": [
    "#                                         {next question start}  6"
   ]
  },
  {
   "cell_type": "markdown",
   "id": "71106286",
   "metadata": {},
   "source": [
    "# \"\"\"6. After running the following code, what does the variable bacon contain?\n",
    "bacon = 22\n",
    "bacon + 1\"\"\""
   ]
  },
  {
   "cell_type": "code",
   "execution_count": 22,
   "id": "9b601041",
   "metadata": {},
   "outputs": [
    {
     "data": {
      "text/plain": [
       "23"
      ]
     },
     "execution_count": 22,
     "metadata": {},
     "output_type": "execute_result"
    }
   ],
   "source": [
    "bacon=22\n",
    "bacon + 1"
   ]
  },
  {
   "cell_type": "code",
   "execution_count": null,
   "id": "d82cf697",
   "metadata": {},
   "outputs": [],
   "source": []
  },
  {
   "cell_type": "markdown",
   "id": "680fe9ab",
   "metadata": {},
   "source": [
    "# \"\"\"7. What should the values of the following two terms be?\n",
    "      \"spam\"+\"spamspam\"\n",
    "       spam* 3                                  \"\"\""
   ]
  },
  {
   "cell_type": "code",
   "execution_count": 24,
   "id": "cedd9af8",
   "metadata": {},
   "outputs": [
    {
     "data": {
      "text/plain": [
       "'spamspamspam'"
      ]
     },
     "execution_count": 24,
     "metadata": {},
     "output_type": "execute_result"
    }
   ],
   "source": [
    "\"spam\"+\"spamspam\""
   ]
  },
  {
   "cell_type": "code",
   "execution_count": 25,
   "id": "dd3a3dd5",
   "metadata": {},
   "outputs": [
    {
     "data": {
      "text/plain": [
       "'spamspamspam'"
      ]
     },
     "execution_count": 25,
     "metadata": {},
     "output_type": "execute_result"
    }
   ],
   "source": [
    "\"spam\"*3"
   ]
  },
  {
   "cell_type": "code",
   "execution_count": null,
   "id": "cdc27a89",
   "metadata": {},
   "outputs": [],
   "source": []
  },
  {
   "cell_type": "code",
   "execution_count": 27,
   "id": "deb9034d",
   "metadata": {},
   "outputs": [],
   "source": []
  },
  {
   "cell_type": "markdown",
   "id": "988bad54",
   "metadata": {},
   "source": [
    "# 8. Why is eggs a valid variable name while 100 is invalid?"
   ]
  },
  {
   "cell_type": "code",
   "execution_count": 34,
   "id": "2265c38e",
   "metadata": {},
   "outputs": [],
   "source": [
    "#because var name cannot start with a numerical value, therefore eggs is a valid variable name and 100 is invalid\n",
    "#because 100 is a numerical value"
   ]
  },
  {
   "cell_type": "code",
   "execution_count": 46,
   "id": "0176b1cc",
   "metadata": {},
   "outputs": [],
   "source": [
    "eggs=\"chicken\""
   ]
  },
  {
   "cell_type": "code",
   "execution_count": 47,
   "id": "90c90776",
   "metadata": {},
   "outputs": [
    {
     "data": {
      "text/plain": [
       "'chicken'"
      ]
     },
     "execution_count": 47,
     "metadata": {},
     "output_type": "execute_result"
    }
   ],
   "source": [
    "eggs"
   ]
  },
  {
   "cell_type": "code",
   "execution_count": 48,
   "id": "e09eb126",
   "metadata": {},
   "outputs": [
    {
     "ename": "SyntaxError",
     "evalue": "cannot assign to literal (Temp/ipykernel_4432/4197983790.py, line 1)",
     "output_type": "error",
     "traceback": [
      "\u001b[1;36m  File \u001b[1;32m\"C:\\Users\\AAYUSH\\AppData\\Local\\Temp/ipykernel_4432/4197983790.py\"\u001b[1;36m, line \u001b[1;32m1\u001b[0m\n\u001b[1;33m    10=\"aayush\"\u001b[0m\n\u001b[1;37m    ^\u001b[0m\n\u001b[1;31mSyntaxError\u001b[0m\u001b[1;31m:\u001b[0m cannot assign to literal\n"
     ]
    }
   ],
   "source": [
    "10=\"aayush\""
   ]
  },
  {
   "cell_type": "code",
   "execution_count": 49,
   "id": "1f464b25",
   "metadata": {},
   "outputs": [],
   "source": [
    "#this errror is occuring bcz we cannot decalare variable starting with a number"
   ]
  },
  {
   "cell_type": "markdown",
   "id": "848ea7e4",
   "metadata": {},
   "source": [
    "# 9. What three functions can be used to get the integer, floating-point number, or string\n",
    "#version of a value?"
   ]
  },
  {
   "cell_type": "code",
   "execution_count": 42,
   "id": "6cb065ba",
   "metadata": {},
   "outputs": [],
   "source": [
    "a=\"aayush\"\n",
    "b=3\n",
    "c=2.4"
   ]
  },
  {
   "cell_type": "code",
   "execution_count": 43,
   "id": "2e7c7aa9",
   "metadata": {},
   "outputs": [
    {
     "data": {
      "text/plain": [
       "'3aayush'"
      ]
     },
     "execution_count": 43,
     "metadata": {},
     "output_type": "execute_result"
    }
   ],
   "source": [
    "str(b)+a"
   ]
  },
  {
   "cell_type": "code",
   "execution_count": 44,
   "id": "7591554f",
   "metadata": {},
   "outputs": [
    {
     "data": {
      "text/plain": [
       "5"
      ]
     },
     "execution_count": 44,
     "metadata": {},
     "output_type": "execute_result"
    }
   ],
   "source": [
    "int(c)+b"
   ]
  },
  {
   "cell_type": "code",
   "execution_count": 45,
   "id": "e429b6a4",
   "metadata": {},
   "outputs": [
    {
     "data": {
      "text/plain": [
       "5.4"
      ]
     },
     "execution_count": 45,
     "metadata": {},
     "output_type": "execute_result"
    }
   ],
   "source": [
    "float(b)+ c"
   ]
  },
  {
   "cell_type": "code",
   "execution_count": null,
   "id": "55441d59",
   "metadata": {},
   "outputs": [],
   "source": []
  },
  {
   "cell_type": "markdown",
   "id": "8a012741",
   "metadata": {},
   "source": [
    "# 10. Why does this expression cause an error? How can you fix it?\n",
    "#            \"I have eaten\"+ 99 + \"burritos\"                                 "
   ]
  },
  {
   "cell_type": "code",
   "execution_count": 30,
   "id": "661485e1",
   "metadata": {},
   "outputs": [],
   "source": [
    "#this is causing an error because 99 cannot add with remaining two string ,therefore we have to aplly str function"
   ]
  },
  {
   "cell_type": "code",
   "execution_count": 35,
   "id": "d0e59a2f",
   "metadata": {},
   "outputs": [
    {
     "data": {
      "text/plain": [
       "'I have eaten   99    burritos        '"
      ]
     },
     "execution_count": 35,
     "metadata": {},
     "output_type": "execute_result"
    }
   ],
   "source": [
    " \"I have eaten   \"   + str(99) +    \"    burritos        \""
   ]
  }
 ],
 "metadata": {
  "kernelspec": {
   "display_name": "Python 3 (ipykernel)",
   "language": "python",
   "name": "python3"
  },
  "language_info": {
   "codemirror_mode": {
    "name": "ipython",
    "version": 3
   },
   "file_extension": ".py",
   "mimetype": "text/x-python",
   "name": "python",
   "nbconvert_exporter": "python",
   "pygments_lexer": "ipython3",
   "version": "3.9.7"
  }
 },
 "nbformat": 4,
 "nbformat_minor": 5
}
