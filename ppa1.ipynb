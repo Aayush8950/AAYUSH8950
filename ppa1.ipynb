{
 "cells": [
  {
   "cell_type": "markdown",
   "id": "8a597ac8",
   "metadata": {},
   "source": [
    "# 1. Write a Python program to print &quot;Hello Python&quot;?"
   ]
  },
  {
   "cell_type": "code",
   "execution_count": 1,
   "id": "0fec7c74",
   "metadata": {},
   "outputs": [
    {
     "name": "stdout",
     "output_type": "stream",
     "text": [
      "hello Python\n"
     ]
    }
   ],
   "source": [
    "print(\"hello Python\")"
   ]
  },
  {
   "cell_type": "code",
   "execution_count": null,
   "id": "418f7d00",
   "metadata": {},
   "outputs": [],
   "source": []
  },
  {
   "cell_type": "markdown",
   "id": "44e5b5d7",
   "metadata": {},
   "source": [
    "# 2. Write a Python program to do arithmetical operations addition and division.?"
   ]
  },
  {
   "cell_type": "code",
   "execution_count": 16,
   "id": "ae74441d",
   "metadata": {},
   "outputs": [],
   "source": [
    "try:\n",
    "    def adddiv():\n",
    "        a=int(input())\n",
    "        b=int(input())\n",
    "        if a==int or float:\n",
    "            return a+b, a/b\n",
    "except:\n",
    "    print(\"type the integer values\")"
   ]
  },
  {
   "cell_type": "code",
   "execution_count": 19,
   "id": "9eb569bf",
   "metadata": {},
   "outputs": [
    {
     "name": "stdout",
     "output_type": "stream",
     "text": [
      "4\n",
      "6\n"
     ]
    },
    {
     "data": {
      "text/plain": [
       "(10, 0.6666666666666666)"
      ]
     },
     "execution_count": 19,
     "metadata": {},
     "output_type": "execute_result"
    }
   ],
   "source": [
    "adddiv()"
   ]
  },
  {
   "cell_type": "markdown",
   "id": "3dd33567",
   "metadata": {},
   "source": [
    "# 3. Write a Python program to find the area of a triangle?"
   ]
  },
  {
   "cell_type": "code",
   "execution_count": 42,
   "id": "60cfb92b",
   "metadata": {},
   "outputs": [],
   "source": [
    "try:\n",
    "    def areatriangle(b,h):\n",
    "        \"\"\"this code is used to find the area of triangle\"\"\"\n",
    "        return (b*h)*0.5\n",
    "except:\n",
    "    print(\"eror hapening\")"
   ]
  },
  {
   "cell_type": "code",
   "execution_count": 43,
   "id": "3b336881",
   "metadata": {},
   "outputs": [
    {
     "data": {
      "text/plain": [
       "5.0"
      ]
     },
     "execution_count": 43,
     "metadata": {},
     "output_type": "execute_result"
    }
   ],
   "source": [
    "areatriangle(2,5)"
   ]
  },
  {
   "cell_type": "markdown",
   "id": "9b0df94c",
   "metadata": {},
   "source": [
    "# 4. Write a Python program to swap two variables?"
   ]
  },
  {
   "cell_type": "code",
   "execution_count": 39,
   "id": "a2a559eb",
   "metadata": {},
   "outputs": [],
   "source": [
    "try:\n",
    "    def swap():\n",
    "        \"\"\"this code is used to swap two variables\"\"\"\n",
    "        x=input(\"your x is:\")\n",
    "        y=input(\"your y is:\")\n",
    "        x, y = y, x\n",
    "        print(\"x\", x)\n",
    "        print(\"y\", y)       \n",
    "except:\n",
    "    print(\"code has error\")"
   ]
  },
  {
   "cell_type": "code",
   "execution_count": 41,
   "id": "0428db37",
   "metadata": {},
   "outputs": [
    {
     "name": "stdout",
     "output_type": "stream",
     "text": [
      "your x is:aayush\n",
      "your y is:88\n",
      "x 88\n",
      "y aayush\n"
     ]
    }
   ],
   "source": [
    "swap()"
   ]
  },
  {
   "cell_type": "markdown",
   "id": "47661e2d",
   "metadata": {},
   "source": [
    "# 5. Write a Python program to generate a random number?"
   ]
  },
  {
   "cell_type": "code",
   "execution_count": 1,
   "id": "4ddfa2b0",
   "metadata": {},
   "outputs": [],
   "source": [
    "import random"
   ]
  },
  {
   "cell_type": "code",
   "execution_count": 13,
   "id": "915cc744",
   "metadata": {},
   "outputs": [],
   "source": [
    "a=random.randint(0,9)"
   ]
  },
  {
   "cell_type": "code",
   "execution_count": 14,
   "id": "97db1908",
   "metadata": {},
   "outputs": [
    {
     "data": {
      "text/plain": [
       "4"
      ]
     },
     "execution_count": 14,
     "metadata": {},
     "output_type": "execute_result"
    }
   ],
   "source": [
    "a"
   ]
  }
 ],
 "metadata": {
  "kernelspec": {
   "display_name": "Python 3 (ipykernel)",
   "language": "python",
   "name": "python3"
  },
  "language_info": {
   "codemirror_mode": {
    "name": "ipython",
    "version": 3
   },
   "file_extension": ".py",
   "mimetype": "text/x-python",
   "name": "python",
   "nbconvert_exporter": "python",
   "pygments_lexer": "ipython3",
   "version": "3.9.7"
  }
 },
 "nbformat": 4,
 "nbformat_minor": 5
}
