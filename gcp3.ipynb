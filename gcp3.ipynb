{
 "cells": [
  {
   "cell_type": "markdown",
   "id": "6a4ca51f",
   "metadata": {},
   "source": [
    "# 1) What distinguishes the Google Cloud Machine Learning Engine from others?"
   ]
  },
  {
   "cell_type": "code",
   "execution_count": 1,
   "id": "fc10952b",
   "metadata": {},
   "outputs": [
    {
     "data": {
      "text/plain": [
       "\"GCP is having a competition edge over others paltform like azure , aws \\nit has so  much data so with the help of this it can tell their users how to market \\nand present your data ,,,also they provide all the insight of their gcp user's user to their gcp user\\nso in this way they crate an edge over others main distuighness is this other than that gcp also \\nin long plans are cost effective as compared to their users\""
      ]
     },
     "execution_count": 1,
     "metadata": {},
     "output_type": "execute_result"
    }
   ],
   "source": [
    "\"\"\"GCP is having a competition edge over others paltform like azure , aws \n",
    "it has so  much data so with the help of this it can tell their users how to market \n",
    "and present your data ,,,also they provide all the insight of their gcp user's user to their gcp user\n",
    "so in this way they crate an edge over others main distuighness is this other than that gcp also \n",
    "in long plans are cost effective as compared to their users\"\"\""
   ]
  },
  {
   "cell_type": "code",
   "execution_count": null,
   "id": "bc0d4598",
   "metadata": {},
   "outputs": [],
   "source": []
  },
  {
   "cell_type": "markdown",
   "id": "02abff4f",
   "metadata": {},
   "source": [
    "#  2)What are GCP's cloud storage libraries and tools?"
   ]
  },
  {
   "cell_type": "code",
   "execution_count": 2,
   "id": "b34f6240",
   "metadata": {},
   "outputs": [
    {
     "data": {
      "text/plain": [
       "'Google Cloud STORAGE LiAbrrIES_____\\nGo\\nJava\\nNode.js\\nPython\\nRuby\\nPHP\\nC\\nC++'"
      ]
     },
     "execution_count": 2,
     "metadata": {},
     "output_type": "execute_result"
    }
   ],
   "source": [
    "\"\"\"Google Cloud STORAGE LiAbrrIES_____\n",
    "Go\n",
    "Java\n",
    "Node.js\n",
    "Python\n",
    "Ruby\n",
    "PHP\n",
    "C\n",
    "C++\"\"\""
   ]
  },
  {
   "cell_type": "code",
   "execution_count": 3,
   "id": "b11a4fce",
   "metadata": {},
   "outputs": [
    {
     "data": {
      "text/plain": [
       "'TOOLS_____\\n1)Google App Engine\\n2)Google Compute Engine \\n3)Google Kubernetes Engine'"
      ]
     },
     "execution_count": 3,
     "metadata": {},
     "output_type": "execute_result"
    }
   ],
   "source": [
    "\"\"\"TOOLS_____\n",
    "1)Google App Engine\n",
    "2)Google Compute Engine \n",
    "3)Google Kubernetes Engine\"\"\""
   ]
  },
  {
   "cell_type": "code",
   "execution_count": null,
   "id": "910ded54",
   "metadata": {},
   "outputs": [],
   "source": []
  },
  {
   "cell_type": "markdown",
   "id": "af551f29",
   "metadata": {},
   "source": [
    "# 3)Define the Google Cloud pricing model."
   ]
  },
  {
   "cell_type": "code",
   "execution_count": null,
   "id": "44a1d937",
   "metadata": {},
   "outputs": [],
   "source": [
    "like other public cloud offerings LIKE awS aZURE ETC. most GCPservices\n",
    "follow a pay-as-you-go model in which there are no upfront payments,\n",
    "and users only pay for the cloud resources they consume. \n",
    "PRICES  vary from service to service BASED ON THE instances and mmemory and cpu they consume"
   ]
  },
  {
   "cell_type": "code",
   "execution_count": null,
   "id": "c6326231",
   "metadata": {},
   "outputs": [],
   "source": [
    "also you can track your money whete"
   ]
  },
  {
   "cell_type": "markdown",
   "id": "6eae1f8e",
   "metadata": {},
   "source": [
    "#  4)The Google Compute Engine API has a variety of authentication mechanisms.\n",
    "\n"
   ]
  },
  {
   "cell_type": "code",
   "execution_count": 4,
   "id": "57d81cdb",
   "metadata": {},
   "outputs": [
    {
     "data": {
      "text/plain": [
       "'Google Cloud APIs use the OAuth 2.0 protocol for authenticating both user accounts and service accounts\\nThe OAuth 2.0 authentication process determines both the principal and the application\\n Most Google Cloud APIs also support anonymous access to public data using API keys'"
      ]
     },
     "execution_count": 4,
     "metadata": {},
     "output_type": "execute_result"
    }
   ],
   "source": [
    "\"\"\"GooglE Cloud APi use the OAuth 2.0 protocol for authenticating both user accountss and service accounts\n",
    "The OAuth 2.0 authentication process determines both the principal and the application\n",
    " Most Google Cloud APIs also support anonymous access to public data using API keys\"\"\""
   ]
  },
  {
   "cell_type": "code",
   "execution_count": null,
   "id": "623f4d31",
   "metadata": {},
   "outputs": [],
   "source": []
  },
  {
   "cell_type": "markdown",
   "id": "dadfb12d",
   "metadata": {},
   "source": [
    "#  5)Create Google Cloud service accounts and explain how to use them."
   ]
  },
  {
   "cell_type": "code",
   "execution_count": null,
   "id": "caab008f",
   "metadata": {},
   "outputs": [],
   "source": [
    "create________\n",
    "first login gcp than try to go dasboard their you find three lines in the upper left corner click there\n",
    "go to permission and tap icon than select services account\n",
    "then create services account present there in blue colours format\n",
    "give name and a furnish priavte key\n",
    "save and make it the key safe then bcz you cannot download it again\n",
    "go down to pemission tab to lock services account\n",
    "use________\n",
    "and click raulf\n",
    "then use name and key    # using command prompt\n",
    "then configure \n",
    "if we create a new instance using this it fail but if we create new dist it work happily:)"
   ]
  },
  {
   "cell_type": "code",
   "execution_count": null,
   "id": "090647e5",
   "metadata": {},
   "outputs": [],
   "source": []
  },
  {
   "cell_type": "markdown",
   "id": "5815b010",
   "metadata": {},
   "source": [
    "# 6) How to make a Google Cloud Storage project?"
   ]
  },
  {
   "cell_type": "code",
   "execution_count": null,
   "id": "6891f261",
   "metadata": {},
   "outputs": [],
   "source": [
    "to implement this project(gcp)\n",
    "step-1) Go to the Manage resources page in the Cloud Console. \n",
    "step-2) On the Select organization drop-down list at the top of the page\n",
    "step-3)select the organization in which you want to create a project. \n",
    "Click Create Project."
   ]
  }
 ],
 "metadata": {
  "kernelspec": {
   "display_name": "Python 3 (ipykernel)",
   "language": "python",
   "name": "python3"
  },
  "language_info": {
   "codemirror_mode": {
    "name": "ipython",
    "version": 3
   },
   "file_extension": ".py",
   "mimetype": "text/x-python",
   "name": "python",
   "nbconvert_exporter": "python",
   "pygments_lexer": "ipython3",
   "version": "3.9.7"
  }
 },
 "nbformat": 4,
 "nbformat_minor": 5
}
